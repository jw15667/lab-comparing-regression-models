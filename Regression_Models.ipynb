{
 "cells": [
  {
   "cell_type": "markdown",
   "metadata": {},
   "source": [
    "# Lab | Comparing regression models\n",
    "For this lab, we will be using the same dataset we used in the previous labs. We recommend using the same notebook since you will be reusing the same variables you previous created and used in labs.\n",
    "\n",
    "#### Instructions\n",
    "1. In this final lab, we will model our data. Import sklearn train_test_split and separate the data.\n",
    "2. Try a simple linear regression with all the data to see whether we are getting good results.\n",
    "3. Great! Now define a function that takes a list of models and train (and tests) them so we can try a lot of them without repeating code.\n",
    "4. Use the function to check LinearRegressor and KNeighborsRegressor.\n",
    "5. You can check also the MLPRegressor for this task!\n",
    "6. Check and discuss the results."
   ]
  },
  {
   "cell_type": "code",
   "execution_count": 213,
   "metadata": {},
   "outputs": [],
   "source": [
    "data = pd.read_csv(\"C:/Users/jw156/Ironhack/Day17/Afternoon/Lab/fourth_csv\")"
   ]
  },
  {
   "cell_type": "markdown",
   "metadata": {},
   "source": [
    "#### 1. In this final lab, we will model our data. Import sklearn train_test_split and separate the data.\n"
   ]
  },
  {
   "cell_type": "code",
   "execution_count": 214,
   "metadata": {},
   "outputs": [],
   "source": [
    "import pandas as pd\n",
    "import numpy as np\n",
    "import datetime\n",
    "import warnings\n",
    "from sklearn.model_selection import train_test_split\n",
    "from sklearn.preprocessing import StandardScaler\n",
    "from sklearn.linear_model import LinearRegression\n",
    "from sklearn.metrics import mean_absolute_error, mean_squared_error, r2_score\n",
    "\n",
    "warnings.filterwarnings('ignore')\n",
    "warnings.filterwarnings(\"ignore\", message=\"numpy.ufunc size changed\")\n",
    "\n",
    "import matplotlib.pyplot as plt\n",
    "import seaborn as sns\n",
    "sns.set_style(\"whitegrid\")\n",
    "\n",
    "%matplotlib inline\n",
    "\n",
    "pd.set_option('display.max_columns', None)\n"
   ]
  },
  {
   "cell_type": "code",
   "execution_count": 218,
   "metadata": {},
   "outputs": [],
   "source": [
    "data = data.drop(['employmentstatus'], axis=1)"
   ]
  },
  {
   "cell_type": "code",
   "execution_count": 219,
   "metadata": {},
   "outputs": [
    {
     "data": {
      "text/plain": [
       "customer_lifetime_value          float64\n",
       "coverage                           int64\n",
       "income                             int64\n",
       "location_code                      int64\n",
       "monthly_premium_auto               int64\n",
       "months_since_last_claim            int64\n",
       "months_since_policy_inception      int64\n",
       "number_of_open_complaints          int64\n",
       "number_of_policies                 int64\n",
       "renew_offer_type                   int64\n",
       "total_claim_amount               float64\n",
       "vehicle_size                       int64\n",
       "state_California                   int64\n",
       "state_Nevada                       int64\n",
       "state_Oregon                       int64\n",
       "state_Washington                   int64\n",
       "marital_status_Married             int64\n",
       "marital_status_Single              int64\n",
       "policy_type_Personal Auto          int64\n",
       "policy_type_Special Auto           int64\n",
       "policy_Personal                    int64\n",
       "policy_Special                     int64\n",
       "sales_channel_Branch               int64\n",
       "sales_channel_Call Center          int64\n",
       "sales_channel_Web                  int64\n",
       "vehicle_class_Other                int64\n",
       "vehicle_class_SUV                  int64\n",
       "vehicle_class_Two-Door Car         int64\n",
       "employment_status                  int64\n",
       "month                              int64\n",
       "year                               int64\n",
       "day                                int64\n",
       "week                               int64\n",
       "dtype: object"
      ]
     },
     "execution_count": 219,
     "metadata": {},
     "output_type": "execute_result"
    }
   ],
   "source": [
    "data.dtypes"
   ]
  },
  {
   "cell_type": "markdown",
   "metadata": {},
   "source": [
    "#### 2. Try a simple linear regression with all the data to see whether we are getting good results.\n"
   ]
  },
  {
   "cell_type": "code",
   "execution_count": 220,
   "metadata": {},
   "outputs": [
    {
     "data": {
      "text/html": [
       "<div>\n",
       "<style scoped>\n",
       "    .dataframe tbody tr th:only-of-type {\n",
       "        vertical-align: middle;\n",
       "    }\n",
       "\n",
       "    .dataframe tbody tr th {\n",
       "        vertical-align: top;\n",
       "    }\n",
       "\n",
       "    .dataframe thead th {\n",
       "        text-align: right;\n",
       "    }\n",
       "</style>\n",
       "<table border=\"1\" class=\"dataframe\">\n",
       "  <thead>\n",
       "    <tr style=\"text-align: right;\">\n",
       "      <th></th>\n",
       "      <th>customer_lifetime_value</th>\n",
       "      <th>coverage</th>\n",
       "      <th>income</th>\n",
       "      <th>location_code</th>\n",
       "      <th>monthly_premium_auto</th>\n",
       "      <th>months_since_last_claim</th>\n",
       "      <th>months_since_policy_inception</th>\n",
       "      <th>number_of_open_complaints</th>\n",
       "      <th>number_of_policies</th>\n",
       "      <th>renew_offer_type</th>\n",
       "      <th>vehicle_size</th>\n",
       "      <th>state_California</th>\n",
       "      <th>state_Nevada</th>\n",
       "      <th>state_Oregon</th>\n",
       "      <th>state_Washington</th>\n",
       "      <th>marital_status_Married</th>\n",
       "      <th>marital_status_Single</th>\n",
       "      <th>policy_type_Personal Auto</th>\n",
       "      <th>policy_type_Special Auto</th>\n",
       "      <th>policy_Personal</th>\n",
       "      <th>policy_Special</th>\n",
       "      <th>sales_channel_Branch</th>\n",
       "      <th>sales_channel_Call Center</th>\n",
       "      <th>sales_channel_Web</th>\n",
       "      <th>vehicle_class_Other</th>\n",
       "      <th>vehicle_class_SUV</th>\n",
       "      <th>vehicle_class_Two-Door Car</th>\n",
       "      <th>employment_status</th>\n",
       "      <th>month</th>\n",
       "      <th>year</th>\n",
       "      <th>day</th>\n",
       "      <th>week</th>\n",
       "    </tr>\n",
       "  </thead>\n",
       "  <tbody>\n",
       "    <tr>\n",
       "      <th>0</th>\n",
       "      <td>7.924260</td>\n",
       "      <td>0</td>\n",
       "      <td>56274</td>\n",
       "      <td>0</td>\n",
       "      <td>69</td>\n",
       "      <td>32</td>\n",
       "      <td>5</td>\n",
       "      <td>0</td>\n",
       "      <td>1</td>\n",
       "      <td>1</td>\n",
       "      <td>1</td>\n",
       "      <td>0</td>\n",
       "      <td>0</td>\n",
       "      <td>0</td>\n",
       "      <td>1</td>\n",
       "      <td>1</td>\n",
       "      <td>0</td>\n",
       "      <td>0</td>\n",
       "      <td>0</td>\n",
       "      <td>0</td>\n",
       "      <td>0</td>\n",
       "      <td>0</td>\n",
       "      <td>0</td>\n",
       "      <td>0</td>\n",
       "      <td>0</td>\n",
       "      <td>0</td>\n",
       "      <td>1</td>\n",
       "      <td>0</td>\n",
       "      <td>2</td>\n",
       "      <td>2011</td>\n",
       "      <td>55</td>\n",
       "      <td>8</td>\n",
       "    </tr>\n",
       "    <tr>\n",
       "      <th>1</th>\n",
       "      <td>8.850738</td>\n",
       "      <td>1</td>\n",
       "      <td>0</td>\n",
       "      <td>0</td>\n",
       "      <td>94</td>\n",
       "      <td>13</td>\n",
       "      <td>42</td>\n",
       "      <td>0</td>\n",
       "      <td>8</td>\n",
       "      <td>3</td>\n",
       "      <td>1</td>\n",
       "      <td>0</td>\n",
       "      <td>0</td>\n",
       "      <td>0</td>\n",
       "      <td>0</td>\n",
       "      <td>0</td>\n",
       "      <td>1</td>\n",
       "      <td>1</td>\n",
       "      <td>0</td>\n",
       "      <td>1</td>\n",
       "      <td>0</td>\n",
       "      <td>0</td>\n",
       "      <td>0</td>\n",
       "      <td>0</td>\n",
       "      <td>0</td>\n",
       "      <td>0</td>\n",
       "      <td>0</td>\n",
       "      <td>1</td>\n",
       "      <td>1</td>\n",
       "      <td>2011</td>\n",
       "      <td>31</td>\n",
       "      <td>5</td>\n",
       "    </tr>\n",
       "    <tr>\n",
       "      <th>2</th>\n",
       "      <td>9.464008</td>\n",
       "      <td>2</td>\n",
       "      <td>48767</td>\n",
       "      <td>0</td>\n",
       "      <td>108</td>\n",
       "      <td>18</td>\n",
       "      <td>38</td>\n",
       "      <td>0</td>\n",
       "      <td>2</td>\n",
       "      <td>1</td>\n",
       "      <td>1</td>\n",
       "      <td>0</td>\n",
       "      <td>1</td>\n",
       "      <td>0</td>\n",
       "      <td>0</td>\n",
       "      <td>1</td>\n",
       "      <td>0</td>\n",
       "      <td>1</td>\n",
       "      <td>0</td>\n",
       "      <td>1</td>\n",
       "      <td>0</td>\n",
       "      <td>0</td>\n",
       "      <td>0</td>\n",
       "      <td>0</td>\n",
       "      <td>0</td>\n",
       "      <td>0</td>\n",
       "      <td>1</td>\n",
       "      <td>0</td>\n",
       "      <td>2</td>\n",
       "      <td>2011</td>\n",
       "      <td>50</td>\n",
       "      <td>7</td>\n",
       "    </tr>\n",
       "    <tr>\n",
       "      <th>3</th>\n",
       "      <td>8.941920</td>\n",
       "      <td>0</td>\n",
       "      <td>0</td>\n",
       "      <td>0</td>\n",
       "      <td>106</td>\n",
       "      <td>18</td>\n",
       "      <td>65</td>\n",
       "      <td>0</td>\n",
       "      <td>7</td>\n",
       "      <td>1</td>\n",
       "      <td>1</td>\n",
       "      <td>1</td>\n",
       "      <td>0</td>\n",
       "      <td>0</td>\n",
       "      <td>0</td>\n",
       "      <td>1</td>\n",
       "      <td>0</td>\n",
       "      <td>0</td>\n",
       "      <td>0</td>\n",
       "      <td>0</td>\n",
       "      <td>0</td>\n",
       "      <td>0</td>\n",
       "      <td>1</td>\n",
       "      <td>0</td>\n",
       "      <td>0</td>\n",
       "      <td>1</td>\n",
       "      <td>0</td>\n",
       "      <td>1</td>\n",
       "      <td>1</td>\n",
       "      <td>2011</td>\n",
       "      <td>20</td>\n",
       "      <td>3</td>\n",
       "    </tr>\n",
       "    <tr>\n",
       "      <th>4</th>\n",
       "      <td>7.942253</td>\n",
       "      <td>0</td>\n",
       "      <td>43836</td>\n",
       "      <td>1</td>\n",
       "      <td>73</td>\n",
       "      <td>12</td>\n",
       "      <td>44</td>\n",
       "      <td>0</td>\n",
       "      <td>1</td>\n",
       "      <td>1</td>\n",
       "      <td>1</td>\n",
       "      <td>0</td>\n",
       "      <td>0</td>\n",
       "      <td>0</td>\n",
       "      <td>1</td>\n",
       "      <td>0</td>\n",
       "      <td>1</td>\n",
       "      <td>1</td>\n",
       "      <td>0</td>\n",
       "      <td>1</td>\n",
       "      <td>0</td>\n",
       "      <td>0</td>\n",
       "      <td>0</td>\n",
       "      <td>0</td>\n",
       "      <td>0</td>\n",
       "      <td>0</td>\n",
       "      <td>0</td>\n",
       "      <td>0</td>\n",
       "      <td>2</td>\n",
       "      <td>2011</td>\n",
       "      <td>34</td>\n",
       "      <td>5</td>\n",
       "    </tr>\n",
       "  </tbody>\n",
       "</table>\n",
       "</div>"
      ],
      "text/plain": [
       "   customer_lifetime_value  coverage  income  location_code  \\\n",
       "0                 7.924260         0   56274              0   \n",
       "1                 8.850738         1       0              0   \n",
       "2                 9.464008         2   48767              0   \n",
       "3                 8.941920         0       0              0   \n",
       "4                 7.942253         0   43836              1   \n",
       "\n",
       "   monthly_premium_auto  months_since_last_claim  \\\n",
       "0                    69                       32   \n",
       "1                    94                       13   \n",
       "2                   108                       18   \n",
       "3                   106                       18   \n",
       "4                    73                       12   \n",
       "\n",
       "   months_since_policy_inception  number_of_open_complaints  \\\n",
       "0                              5                          0   \n",
       "1                             42                          0   \n",
       "2                             38                          0   \n",
       "3                             65                          0   \n",
       "4                             44                          0   \n",
       "\n",
       "   number_of_policies  renew_offer_type  vehicle_size  state_California  \\\n",
       "0                   1                 1             1                 0   \n",
       "1                   8                 3             1                 0   \n",
       "2                   2                 1             1                 0   \n",
       "3                   7                 1             1                 1   \n",
       "4                   1                 1             1                 0   \n",
       "\n",
       "   state_Nevada  state_Oregon  state_Washington  marital_status_Married  \\\n",
       "0             0             0                 1                       1   \n",
       "1             0             0                 0                       0   \n",
       "2             1             0                 0                       1   \n",
       "3             0             0                 0                       1   \n",
       "4             0             0                 1                       0   \n",
       "\n",
       "   marital_status_Single  policy_type_Personal Auto  policy_type_Special Auto  \\\n",
       "0                      0                          0                         0   \n",
       "1                      1                          1                         0   \n",
       "2                      0                          1                         0   \n",
       "3                      0                          0                         0   \n",
       "4                      1                          1                         0   \n",
       "\n",
       "   policy_Personal  policy_Special  sales_channel_Branch  \\\n",
       "0                0               0                     0   \n",
       "1                1               0                     0   \n",
       "2                1               0                     0   \n",
       "3                0               0                     0   \n",
       "4                1               0                     0   \n",
       "\n",
       "   sales_channel_Call Center  sales_channel_Web  vehicle_class_Other  \\\n",
       "0                          0                  0                    0   \n",
       "1                          0                  0                    0   \n",
       "2                          0                  0                    0   \n",
       "3                          1                  0                    0   \n",
       "4                          0                  0                    0   \n",
       "\n",
       "   vehicle_class_SUV  vehicle_class_Two-Door Car  employment_status  month  \\\n",
       "0                  0                           1                  0      2   \n",
       "1                  0                           0                  1      1   \n",
       "2                  0                           1                  0      2   \n",
       "3                  1                           0                  1      1   \n",
       "4                  0                           0                  0      2   \n",
       "\n",
       "   year  day  week  \n",
       "0  2011   55     8  \n",
       "1  2011   31     5  \n",
       "2  2011   50     7  \n",
       "3  2011   20     3  \n",
       "4  2011   34     5  "
      ]
     },
     "metadata": {},
     "output_type": "display_data"
    }
   ],
   "source": [
    "y = data['total_claim_amount']\n",
    "X = data.drop(['total_claim_amount'], axis=1)\n",
    "\n",
    "display(X.head())\n",
    "\n",
    "X_train, X_test, y_train, y_test = train_test_split(X, y, test_size=0.33, random_state=42)"
   ]
  },
  {
   "cell_type": "code",
   "execution_count": 221,
   "metadata": {},
   "outputs": [],
   "source": [
    "from sklearn.linear_model import LinearRegression\n",
    "\n",
    "model = LinearRegression()\n",
    "reg = model.fit(X_train, y_train)"
   ]
  },
  {
   "cell_type": "code",
   "execution_count": 222,
   "metadata": {},
   "outputs": [
    {
     "data": {
      "text/plain": [
       "array([358.74576875, 485.88291881, 397.64467554, ..., 101.16903523,\n",
       "       637.20798301, 553.53552396])"
      ]
     },
     "execution_count": 222,
     "metadata": {},
     "output_type": "execute_result"
    }
   ],
   "source": [
    "Y_pred = reg.predict(X_test)\n",
    "Y_pred"
   ]
  },
  {
   "cell_type": "code",
   "execution_count": 223,
   "metadata": {},
   "outputs": [
    {
     "name": "stdout",
     "output_type": "stream",
     "text": [
      "The R2 of the linear model is:  0.61\n"
     ]
    }
   ],
   "source": [
    "print(\"The R2 of the linear model is: \",round(r2_score(y_test, Y_pred),2))"
   ]
  },
  {
   "cell_type": "code",
   "execution_count": 224,
   "metadata": {},
   "outputs": [
    {
     "name": "stdout",
     "output_type": "stream",
     "text": [
      "31913.71\n"
     ]
    }
   ],
   "source": [
    "mse = mean_squared_error(y_test, Y_pred)\n",
    "print(round(mse,2)) "
   ]
  },
  {
   "cell_type": "code",
   "execution_count": 225,
   "metadata": {},
   "outputs": [
    {
     "name": "stdout",
     "output_type": "stream",
     "text": [
      "178.64\n"
     ]
    }
   ],
   "source": [
    "import math\n",
    "\n",
    "rmse = math.sqrt(mse)\n",
    "print(round(rmse,2))"
   ]
  },
  {
   "cell_type": "code",
   "execution_count": 226,
   "metadata": {},
   "outputs": [
    {
     "name": "stdout",
     "output_type": "stream",
     "text": [
      "128.65\n"
     ]
    }
   ],
   "source": [
    "mae = mean_absolute_error(y_test, Y_pred)\n",
    "print(round(mae,2))"
   ]
  },
  {
   "cell_type": "markdown",
   "metadata": {},
   "source": [
    "#### 3. Great! Now define a function that takes a list of models and train (and tests) them so we can try a lot of them without repeating code."
   ]
  },
  {
   "cell_type": "code",
   "execution_count": 227,
   "metadata": {},
   "outputs": [],
   "source": [
    "def x_y_test_train(X, y):\n",
    "    from sklearn.model_selection import train_test_split\n",
    "    from sklearn.linear_model import LinearRegression\n",
    "    X_train, X_test, y_train, y_test = train_test_split(X, y, test_size=0.33, random_state=42)\n",
    "    model = LinearRegression\n",
    "    predictions = model.fit(X_train, y_train)\n",
    "    Y_pred = predictions.predict(X_test)\n",
    "    return Y_pred"
   ]
  },
  {
   "cell_type": "code",
   "execution_count": 228,
   "metadata": {},
   "outputs": [],
   "source": [
    "def models(data, target, mode, k=None, test_size=0.3, multi_class='multinominal'):\n",
    "    \n",
    "    # x, y split\n",
    "    X = data.drop(target, axis=1)\n",
    "    y = data[target]\n",
    "    \n",
    "    #train_test_split\n",
    "    from sklearn.model_selection import train_test_split\n",
    "    X_train, X_test, y_train, y_test = train_test_split(X, y, test_size=0.33, random_state=42)\n",
    "    \n",
    "    # linear_regression\n",
    "    if mode == 'linear':\n",
    "        from sklearn.linear_model import LinearRegression  \n",
    "        from sklearn.metrics import mean_absolute_error, mean_squared_error, r2_score\n",
    "        model = LinearRegression()\n",
    "        predictions = model.fit(X_train, y_train)\n",
    "        Y_pred = predictions.predict(X_test)\n",
    "        \n",
    "        r_2 = round(r2_score(y_test, Y_pred),2)\n",
    "        print(\"The R2 of the linear model is: {}\".format(r_2))       \n",
    "        mse = mean_squared_error(y_test, Y_pred)\n",
    "        print(round(mse,2))   \n",
    "        import math\n",
    "        rmse = math.sqrt(mse)\n",
    "        print(round(rmse,2))\n",
    "        mae = mean_absolute_error(y_test, Y_pred)\n",
    "        print(round(mae,2))\n",
    "\n",
    "    \n",
    "    #Logistic Model\n",
    "    elif mode == 'logistic':\n",
    "        from sklearn.metrics import cohen_kappa_score\n",
    "        from sklearn.linear_model import LogisticRegression\n",
    "        logistic_classification = LogisticRegression(random_state=0, solver='lbfgs',\n",
    "                                multi_class='ovr').fit(X_train, y_train)\n",
    "        from sklearn import metrics\n",
    "        logreg = LogisticRegression()\n",
    "        model = logreg.fit(X_train, y_train)\n",
    "\n",
    "        y_pred = logreg.predict(X_test)\n",
    "        print(\"The accuracy of the model is: \",round(logistic_classification.score(X_test, y_test),2))\n",
    "        print(\"The kappa of the model is: \",round(cohen_kappa_score(y,logistic_classification.predict(X)),2))\n",
    "        \n",
    "    # K-Nearest\n",
    "    elif mode == 'k-nn':                     \n",
    "        from sklearn.neighbors import KNeighborsRegressor\n",
    "\n",
    "        knn_model = KNeighborsRegressor(n_neighbors=4) # The keyword \"n_neighbors\" is what sets the K.\n",
    "        model = knn_model.fit(X_train, y_train)          \n",
    "        predictions = knn_predictions = knn_model.predict(X_test)\n",
    "\n",
    "        from sklearn.metrics import mean_absolute_error, mean_squared_error, r2_score\n",
    "\n",
    "        MAE = mean_absolute_error(y_test,knn_predictions)\n",
    "        MSE = mean_squared_error(y_test,knn_predictions)\n",
    "        RMSE = np.sqrt(MSE)\n",
    "        R2 = r2_score(y_test,knn_predictions)\n",
    "        \n",
    "        list_of_error_metrics = [MAE, MSE, RMSE, R2]\n",
    "        \n",
    "        print(\"The mean absolute error of the model in the test set is: %6.2f\" % (MAE))\n",
    "        print(\"The mean squared error of the model in the test set is: %6.2f\" % (MSE))\n",
    "        print(\"The root mean squared error of the model in the test set is: %6.2f\" % (RMSE))\n",
    "        print(\"The R2 of the model in the test set is: %4.2f\" % (R2))\n",
    "    \n",
    "    #MLP\n",
    "    elif mode == 'mlp':\n",
    "\n",
    "        from sklearn.neural_network import MLPRegressor\n",
    "        from sklearn.model_selection import train_test_split\n",
    "\n",
    "        X_train, X_test, y_train, y_test = train_test_split(X, y, test_size = 0.3, random_state=100)\n",
    "\n",
    "        model = MLPRegressor(random_state=1, max_iter=500).fit(X_train, y_train)\n",
    "\n",
    "        predictions = model.predict(X_test)\n",
    "\n",
    "        model.score(X_test, y_test)\n",
    "\n",
    "        from sklearn.metrics import mean_absolute_error, mean_squared_error, r2_score\n",
    "\n",
    "        MAE = mean_absolute_error(y_test,predictions)\n",
    "        MSE = mean_squared_error(y_test,predictions)\n",
    "        RMSE = np.sqrt(MSE)\n",
    "        R2 = r2_score(y_test,predictions)\n",
    "\n",
    "        print(\"\\nThe mean absolute error of the model in the test set is: %6.2f\" % (MAE))\n",
    "        print(\"The mean squared error of the model in the test set is: %6.2f\" % (MSE))\n",
    "        print(\"The root mean squared error of the model in the test set is: %6.2f\" % (RMSE))\n",
    "        print(\"The R2 of the model in the test set is: %4.2f\" % (R2))\n",
    "\n",
    "    return predictions, model, list_of_error_metrics"
   ]
  },
  {
   "cell_type": "markdown",
   "metadata": {},
   "source": [
    "#### 4. Use the function to check LinearRegressor and KNeighborsRegressor.\n"
   ]
  },
  {
   "cell_type": "code",
   "execution_count": 229,
   "metadata": {},
   "outputs": [
    {
     "name": "stdout",
     "output_type": "stream",
     "text": [
      "The mean absolute error of the model in the test set is: 155.06\n",
      "The mean squared error of the model in the test set is: 48529.68\n",
      "The root mean squared error of the model in the test set is: 220.29\n",
      "The R2 of the model in the test set is: 0.40\n"
     ]
    },
    {
     "data": {
      "text/plain": [
       "(array([341.4765845 , 376.10521825, 451.2       , ..., 301.7706215 ,\n",
       "        464.32279075, 579.93688925]),\n",
       " KNeighborsRegressor(n_neighbors=4),\n",
       " [155.05861417844113,\n",
       "  48529.675707976174,\n",
       "  220.29452037664527,\n",
       "  0.3996014414094079])"
      ]
     },
     "execution_count": 229,
     "metadata": {},
     "output_type": "execute_result"
    }
   ],
   "source": [
    "models(data, 'total_claim_amount', mode='k-nn')\n"
   ]
  },
  {
   "cell_type": "code",
   "execution_count": null,
   "metadata": {},
   "outputs": [],
   "source": []
  },
  {
   "cell_type": "code",
   "execution_count": 230,
   "metadata": {},
   "outputs": [
    {
     "ename": "ValueError",
     "evalue": "Unknown label type: 'continuous'",
     "output_type": "error",
     "traceback": [
      "\u001b[1;31m---------------------------------------------------------------------------\u001b[0m",
      "\u001b[1;31mValueError\u001b[0m                                Traceback (most recent call last)",
      "\u001b[1;32m<ipython-input-230-96b8367ed3f2>\u001b[0m in \u001b[0;36m<module>\u001b[1;34m\u001b[0m\n\u001b[1;32m----> 1\u001b[1;33m \u001b[0mmodels\u001b[0m\u001b[1;33m(\u001b[0m\u001b[0mdata\u001b[0m\u001b[1;33m,\u001b[0m \u001b[1;34m'total_claim_amount'\u001b[0m\u001b[1;33m,\u001b[0m \u001b[0mmode\u001b[0m\u001b[1;33m=\u001b[0m\u001b[1;34m'logistic'\u001b[0m\u001b[1;33m)\u001b[0m\u001b[1;33m\u001b[0m\u001b[1;33m\u001b[0m\u001b[0m\n\u001b[0m",
      "\u001b[1;32m<ipython-input-228-8aca233199d2>\u001b[0m in \u001b[0;36mmodels\u001b[1;34m(data, target, mode, k, test_size, multi_class)\u001b[0m\n\u001b[0;32m     32\u001b[0m         \u001b[1;32mfrom\u001b[0m \u001b[0msklearn\u001b[0m\u001b[1;33m.\u001b[0m\u001b[0mmetrics\u001b[0m \u001b[1;32mimport\u001b[0m \u001b[0mcohen_kappa_score\u001b[0m\u001b[1;33m\u001b[0m\u001b[1;33m\u001b[0m\u001b[0m\n\u001b[0;32m     33\u001b[0m         \u001b[1;32mfrom\u001b[0m \u001b[0msklearn\u001b[0m\u001b[1;33m.\u001b[0m\u001b[0mlinear_model\u001b[0m \u001b[1;32mimport\u001b[0m \u001b[0mLogisticRegression\u001b[0m\u001b[1;33m\u001b[0m\u001b[1;33m\u001b[0m\u001b[0m\n\u001b[1;32m---> 34\u001b[1;33m         logistic_classification = LogisticRegression(random_state=0, solver='lbfgs',\n\u001b[0m\u001b[0;32m     35\u001b[0m                                 multi_class='ovr').fit(X_train, y_train)\n\u001b[0;32m     36\u001b[0m         \u001b[1;32mfrom\u001b[0m \u001b[0msklearn\u001b[0m \u001b[1;32mimport\u001b[0m \u001b[0mmetrics\u001b[0m\u001b[1;33m\u001b[0m\u001b[1;33m\u001b[0m\u001b[0m\n",
      "\u001b[1;32m~\\Anaconda3\\lib\\site-packages\\sklearn\\linear_model\\_logistic.py\u001b[0m in \u001b[0;36mfit\u001b[1;34m(self, X, y, sample_weight)\u001b[0m\n\u001b[0;32m   1343\u001b[0m                                    \u001b[0morder\u001b[0m\u001b[1;33m=\u001b[0m\u001b[1;34m\"C\"\u001b[0m\u001b[1;33m,\u001b[0m\u001b[1;33m\u001b[0m\u001b[1;33m\u001b[0m\u001b[0m\n\u001b[0;32m   1344\u001b[0m                                    accept_large_sparse=solver != 'liblinear')\n\u001b[1;32m-> 1345\u001b[1;33m         \u001b[0mcheck_classification_targets\u001b[0m\u001b[1;33m(\u001b[0m\u001b[0my\u001b[0m\u001b[1;33m)\u001b[0m\u001b[1;33m\u001b[0m\u001b[1;33m\u001b[0m\u001b[0m\n\u001b[0m\u001b[0;32m   1346\u001b[0m         \u001b[0mself\u001b[0m\u001b[1;33m.\u001b[0m\u001b[0mclasses_\u001b[0m \u001b[1;33m=\u001b[0m \u001b[0mnp\u001b[0m\u001b[1;33m.\u001b[0m\u001b[0munique\u001b[0m\u001b[1;33m(\u001b[0m\u001b[0my\u001b[0m\u001b[1;33m)\u001b[0m\u001b[1;33m\u001b[0m\u001b[1;33m\u001b[0m\u001b[0m\n\u001b[0;32m   1347\u001b[0m \u001b[1;33m\u001b[0m\u001b[0m\n",
      "\u001b[1;32m~\\Anaconda3\\lib\\site-packages\\sklearn\\utils\\multiclass.py\u001b[0m in \u001b[0;36mcheck_classification_targets\u001b[1;34m(y)\u001b[0m\n\u001b[0;32m    170\u001b[0m     if y_type not in ['binary', 'multiclass', 'multiclass-multioutput',\n\u001b[0;32m    171\u001b[0m                       'multilabel-indicator', 'multilabel-sequences']:\n\u001b[1;32m--> 172\u001b[1;33m         \u001b[1;32mraise\u001b[0m \u001b[0mValueError\u001b[0m\u001b[1;33m(\u001b[0m\u001b[1;34m\"Unknown label type: %r\"\u001b[0m \u001b[1;33m%\u001b[0m \u001b[0my_type\u001b[0m\u001b[1;33m)\u001b[0m\u001b[1;33m\u001b[0m\u001b[1;33m\u001b[0m\u001b[0m\n\u001b[0m\u001b[0;32m    173\u001b[0m \u001b[1;33m\u001b[0m\u001b[0m\n\u001b[0;32m    174\u001b[0m \u001b[1;33m\u001b[0m\u001b[0m\n",
      "\u001b[1;31mValueError\u001b[0m: Unknown label type: 'continuous'"
     ]
    }
   ],
   "source": [
    "models(data, 'total_claim_amount', mode='logistic')\n"
   ]
  }
 ],
 "metadata": {
  "kernelspec": {
   "display_name": "Python 3",
   "language": "python",
   "name": "python3"
  },
  "language_info": {
   "codemirror_mode": {
    "name": "ipython",
    "version": 3
   },
   "file_extension": ".py",
   "mimetype": "text/x-python",
   "name": "python",
   "nbconvert_exporter": "python",
   "pygments_lexer": "ipython3",
   "version": "3.8.5"
  }
 },
 "nbformat": 4,
 "nbformat_minor": 4
}
